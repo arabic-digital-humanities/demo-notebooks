{
 "cells": [
  {
   "cell_type": "code",
   "execution_count": 1,
   "metadata": {
    "collapsed": true
   },
   "outputs": [],
   "source": [
    "import ipywidgets as widgets\n",
    "import gensim\n",
    "import os"
   ]
  },
  {
   "cell_type": "markdown",
   "metadata": {},
   "source": [
    "## Word embedding model for arabic\n",
    "This app allows you to find related words in a word embedding model for Arabic.\n",
    "\n",
    "The current model is the Wikipedia CBOW model from [AraVec](https://github.com/bakrianoo/aravec), see: Abu Bakr Soliman, Kareem Eisa, and Samhaa R. El-Beltagy, “AraVec: A set of Arabic Word Embedding Models for use in Arabic NLP”, in proceedings of the 3rd International Conference on Arabic Computational Linguistics (ACLing 2017), Dubai, UAE, 2017."
   ]
  },
  {
   "cell_type": "code",
   "execution_count": 2,
   "metadata": {
    "collapsed": true
   },
   "outputs": [],
   "source": [
    "model_path = 'data'"
   ]
  },
  {
   "cell_type": "code",
   "execution_count": 10,
   "metadata": {
    "collapsed": true
   },
   "outputs": [],
   "source": [
    "# To do: list multiple available models and only download them when needed\n",
    "models = {}\n",
    "filenames = os.listdir(model_path)\n",
    "for fn in filenames:\n",
    "    try:\n",
    "        models[fn] = gensim.models.KeyedVectors.load(os.path.join(model_path, fn))\n",
    "    except:\n",
    "        pass"
   ]
  },
  {
   "cell_type": "code",
   "execution_count": 22,
   "metadata": {
    "collapsed": true
   },
   "outputs": [],
   "source": [
    "def most_similar(word, model, topn=10):\n",
    "    res = model.most_similar(word, topn=topn)\n",
    "    output = [u'{} \\t{:.3f}'.format(w, s) for w, s in res]\n",
    "    return '\\n'.join(output)"
   ]
  },
  {
   "cell_type": "code",
   "execution_count": 23,
   "metadata": {},
   "outputs": [
    {
     "data": {
      "application/vnd.jupyter.widget-view+json": {
       "model_id": "f883db9fbdcb41109e3181a5d1e563f9",
       "version_major": 2,
       "version_minor": 0
      },
      "text/plain": [
       "VBox(children=(Text(value='', description='Word:'), IntSlider(value=10, description='Number of results:', min=…"
      ]
     },
     "metadata": {},
     "output_type": "display_data"
    },
    {
     "name": "stderr",
     "output_type": "stream",
     "text": [
      "/home/dafne/anaconda2/envs/adh/lib/python3.6/site-packages/ipykernel/__main__.py:2: DeprecationWarning: Call to deprecated `most_similar` (Method will be removed in 4.0.0, use self.wv.most_similar() instead).\n",
      "  from ipykernel import kernelapp as app\n"
     ]
    }
   ],
   "source": [
    "outputs = {model: widgets.Textarea(disabled=True, rows=30, description=model) for model in models}\n",
    "\n",
    "def print_related_words(button):\n",
    "    for model in models:\n",
    "        try: \n",
    "            outputs[model].value = most_similar(input_word.value, models[model], input_number.value)\n",
    "        except KeyError:\n",
    "            outputs[model].value = 'Error: word does not exist in vocabulary'\n",
    "#     except:\n",
    "#         output.value = 'Unknown error'\n",
    "\n",
    "input_word = widgets.Text(description='Word:')\n",
    "input_number = widgets.IntSlider(\n",
    "    value=10,\n",
    "    min=5,\n",
    "    max=100,\n",
    "    step=5,\n",
    "    description='Number of results:',\n",
    ")\n",
    "\n",
    "button_submit = widgets.Button(description='Submit')\n",
    "button_submit.on_click(print_related_words)\n",
    "\n",
    "output_boxes = tuple((m for m in outputs.values()))\n",
    "widgets.VBox((input_word, input_number, button_submit, widgets.HBox(output_boxes)))\n"
   ]
  },
  {
   "cell_type": "code",
   "execution_count": null,
   "metadata": {
    "collapsed": true
   },
   "outputs": [],
   "source": []
  }
 ],
 "metadata": {
  "anaconda-cloud": {},
  "kernelspec": {
   "display_name": "Python [conda env:adh]",
   "language": "python",
   "name": "conda-env-adh-py"
  },
  "language_info": {
   "codemirror_mode": {
    "name": "ipython",
    "version": 3
   },
   "file_extension": ".py",
   "mimetype": "text/x-python",
   "name": "python",
   "nbconvert_exporter": "python",
   "pygments_lexer": "ipython3",
   "version": "3.6.2"
  }
 },
 "nbformat": 4,
 "nbformat_minor": 2
}
