{
 "cells": [
  {
   "cell_type": "code",
   "execution_count": null,
   "metadata": {},
   "outputs": [],
   "source": [
    "import ipywidgets as widgets\n",
    "import gensim\n",
    "import os"
   ]
  },
  {
   "cell_type": "code",
   "execution_count": null,
   "metadata": {},
   "outputs": [],
   "source": [
    "model_path = 'data'"
   ]
  },
  {
   "cell_type": "code",
   "execution_count": null,
   "metadata": {},
   "outputs": [],
   "source": [
    "model_w2vec = gensim.models.Word2Vec.load(os.path.join(model_path, 'wikipedia_cbow_100'))"
   ]
  },
  {
   "cell_type": "code",
   "execution_count": null,
   "metadata": {},
   "outputs": [],
   "source": [
    "def most_similar(word, model, topn=10):\n",
    "    res = model.wv.most_similar(word, topn=topn)\n",
    "    output = [u'{} \\t{:.3f}'.format(w, s) for w, s in res]\n",
    "    return '\\n'.join(output)"
   ]
  },
  {
   "cell_type": "code",
   "execution_count": null,
   "metadata": {},
   "outputs": [],
   "source": [
    "output = widgets.Textarea(disabled=True)\n",
    "\n",
    "def print_related_words(button):\n",
    "    print('Wikipedia w2vec:')\n",
    "    output.value = most_similar(input_word.value, model_w2vec, input_number.value)\n",
    "\n",
    "input_word = widgets.Text(description='Word:')\n",
    "input_number = widgets.IntSlider(\n",
    "    value=10,\n",
    "    min=5,\n",
    "    max=100,\n",
    "    step=5,\n",
    "    description='Number of results:',\n",
    ")\n",
    "\n",
    "button_submit = widgets.Button(description='Submit')\n",
    "button_submit.on_click(print_related_words)\n",
    "\n",
    "widgets.VBox((input_word, input_number, button_submit, output))"
   ]
  },
  {
   "cell_type": "code",
   "execution_count": null,
   "metadata": {},
   "outputs": [],
   "source": []
  }
 ],
 "metadata": {
  "language_info": {
   "name": "python",
   "pygments_lexer": "ipython3"
  }
 },
 "nbformat": 4,
 "nbformat_minor": 2
}
