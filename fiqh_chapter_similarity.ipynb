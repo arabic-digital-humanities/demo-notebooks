{
 "cells": [
  {
   "cell_type": "code",
   "execution_count": null,
   "metadata": {},
   "outputs": [],
   "source": [
    "import numpy as np\n",
    "import pandas as pd\n",
    "import holoviews as hv\n",
    "\n",
    "from holoviews.ipython import display\n",
    "from ipywidgets import interact\n",
    "\n",
    "hv.extension('bokeh', 'matplotlib')"
   ]
  },
  {
   "cell_type": "code",
   "execution_count": null,
   "metadata": {},
   "outputs": [],
   "source": [
    "# get the data\n",
    "\n",
    "data = pd.read_csv('https://surfdrive.surf.nl/files/index.php/s/DJy2ffxkaXH7oPO/download')"
   ]
  },
  {
   "cell_type": "code",
   "execution_count": null,
   "metadata": {},
   "outputs": [],
   "source": [
    "bg = hv.Scatter(data, kdims=['x', 'y'], group='bg')\n",
    "\n",
    "ds = hv.Dataset(data, ['x', 'y', 'BookURI'])\n",
    "book = ds.to(hv.Scatter, ['x', 'y'], group='book')\n",
    "\n",
    "res = bg * book"
   ]
  },
  {
   "cell_type": "code",
   "execution_count": null,
   "metadata": {},
   "outputs": [],
   "source": [
    "%%output size=200\n",
    "%%opts Scatter.Bg (color='lightgrey')\n",
    "%%opts Scatter.Book (color='red')\n",
    "res"
   ]
  }
 ],
 "metadata": {
  "language_info": {
   "name": "python",
   "pygments_lexer": "ipython3"
  }
 },
 "nbformat": 4,
 "nbformat_minor": 2
}
