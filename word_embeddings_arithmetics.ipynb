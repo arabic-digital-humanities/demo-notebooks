{
 "cells": [
  {
   "cell_type": "code",
   "execution_count": 1,
   "metadata": {
    "collapsed": true
   },
   "outputs": [],
   "source": [
    "import ipywidgets as widgets\n",
    "import gensim\n",
    "import os"
   ]
  },
  {
   "cell_type": "markdown",
   "metadata": {},
   "source": [
    "## Word embedding model for arabic\n",
    "This app allows you to do arithmetics with word embeddings model for Arabic.\n",
    "\n",
    "The current model is the Wikipedia CBOW model from [AraVec](https://github.com/bakrianoo/aravec), see: Abu Bakr Soliman, Kareem Eisa, and Samhaa R. El-Beltagy, “AraVec: A set of Arabic Word Embedding Models for use in Arabic NLP”, in proceedings of the 3rd International Conference on Arabic Computational Linguistics (ACLing 2017), Dubai, UAE, 2017."
   ]
  },
  {
   "cell_type": "code",
   "execution_count": 2,
   "metadata": {
    "collapsed": true
   },
   "outputs": [],
   "source": [
    "model_path = 'data'"
   ]
  },
  {
   "cell_type": "code",
   "execution_count": null,
   "metadata": {},
   "outputs": [],
   "source": [
    "import zipfile\n",
    "from urllib.request import urlopen\n",
    "from io import BytesIO\n",
    "\n",
    "def download_model(name, download_url):\n",
    "    outname = os.path.join(model_path, name)\n",
    "    \n",
    "    if not os.path.exists(outname):\n",
    "        resp = urlopen(download_url)\n",
    "        zf = zipfile.ZipFile(BytesIO(resp.read()), 'r')\n",
    "\n",
    "\n",
    "        fname = zf.namelist()[0]\n",
    "        with open(outname, 'wb') as fout:\n",
    "            fout.write(zf.read(fname))\n",
    "            \n",
    "            \n",
    "model_urls = {\n",
    "    'fiqh-norm': 'https://surfdrive.surf.nl/files/index.php/s/MpDn5ckasu33LuT/download',\n",
    "    'fiqh': 'https://surfdrive.surf.nl/files/index.php/s/7RvP2iYCOXkcWRp/download',\n",
    "    'fiqh-stemmed': 'https://surfdrive.surf.nl/files/index.php/s/Ah9HeEg8vDMzPIo/download',\n",
    "    #'wiki_cbow_100': 'https://archive.org/download/aravec2.0/wiki_cbow_100.zip'\n",
    "}\n",
    "\n",
    "for name in model_urls:\n",
    "    print(name)\n",
    "    download_model(name, model_urls[name])"
   ]
  },
  {
   "cell_type": "code",
   "execution_count": 21,
   "metadata": {
    "collapsed": true
   },
   "outputs": [],
   "source": [
    "nicer_names_dict = {'fiqh-i10-s100-w5-sg0_wv': 'Fiqh', \n",
    "                   'stemmed-fiqh-i10-s100-w5-sg0_wv': 'Stemmed Fiqh'}"
   ]
  },
  {
   "cell_type": "code",
   "execution_count": 22,
   "metadata": {
    "collapsed": true
   },
   "outputs": [],
   "source": [
    "# To do: list multiple available models and only download them when needed\n",
    "models = {}\n",
    "filenames = os.listdir(model_path)\n",
    "for fn in filenames:\n",
    "    try:\n",
    "        if fn in nicer_names_dict:\n",
    "            models[nicer_names_dict[fn]] = gensim.models.KeyedVectors.load(os.path.join(model_path, fn))\n",
    "    except:\n",
    "        pass"
   ]
  },
  {
   "cell_type": "code",
   "execution_count": 24,
   "metadata": {
    "collapsed": true
   },
   "outputs": [],
   "source": [
    "def arithmetics(word1, word2, word3, model, topn=10):\n",
    "    res = model.wv.most_similar(positive=[word1, word3], negative=[word2], topn=topn)\n",
    "    output = [u'{} \\t{:.3f}'.format(w, s) for w, s in res]\n",
    "    return '\\n'.join(output)"
   ]
  },
  {
   "cell_type": "markdown",
   "metadata": {},
   "source": [
    "The output word is sementically related to word3 similar as word1 to word2. For example:\n",
    "king (*word1*) - man (*word2*) + woman (*word3*) = queen (*output*)"
   ]
  },
  {
   "cell_type": "code",
   "execution_count": 25,
   "metadata": {},
   "outputs": [
    {
     "data": {
      "application/vnd.jupyter.widget-view+json": {
       "model_id": "d707c53e8b7f4a7a901a60940773d386",
       "version_major": 2,
       "version_minor": 0
      },
      "text/plain": [
       "VBox(children=(Text(value='', description='Word 1 (king):'), Text(value='', description='Word 2 (man):'), Text…"
      ]
     },
     "metadata": {},
     "output_type": "display_data"
    },
    {
     "name": "stderr",
     "output_type": "stream",
     "text": [
      "/home/dafne/anaconda2/envs/adh/lib/python3.6/site-packages/ipykernel/__main__.py:2: DeprecationWarning: Call to deprecated `wv` (Attribute will be removed in 4.0.0, use self instead).\n",
      "  from ipykernel import kernelapp as app\n"
     ]
    }
   ],
   "source": [
    "outputs = {model: widgets.Textarea(disabled=True, rows=30, description=model )\n",
    "                                   for model in models}\n",
    "\n",
    "def print_related_words(button):\n",
    "    for model in models:\n",
    "        try: \n",
    "            outputs[model].value = arithmetics(input_word1.value.strip(),\n",
    "                                               input_word2.value.strip(),\n",
    "                                               input_word3.value.strip(),\n",
    "                                               models[model], input_number.value)\n",
    "        except KeyError:\n",
    "            outputs[model].value = 'Error: word does not exist in vocabulary'\n",
    "#     except:\n",
    "#         output.value = 'Unknown error'\n",
    "\n",
    "input_word1 = widgets.Text(description='Word 1 (king):')\n",
    "input_word2 = widgets.Text(description='Word 2 (man):')\n",
    "input_word3 = widgets.Text(description='Word 3 (woman):')\n",
    "\n",
    "input_number = widgets.IntSlider(\n",
    "    value=50,\n",
    "    min=5,\n",
    "    max=100,\n",
    "    step=5,\n",
    "    description='Number of results:',\n",
    ")\n",
    "\n",
    "button_submit = widgets.Button(description='Submit')\n",
    "button_submit.on_click(print_related_words)\n",
    "\n",
    "output_boxes = tuple([outputs[m] for m in sorted(outputs.keys())])\n",
    "widgets.VBox((input_word1, input_word2, input_word3, \n",
    "              input_number, button_submit, widgets.HBox(output_boxes)))\n"
   ]
  },
  {
   "cell_type": "code",
   "execution_count": null,
   "metadata": {
    "collapsed": true
   },
   "outputs": [],
   "source": []
  }
 ],
 "metadata": {
  "anaconda-cloud": {},
  "kernelspec": {
   "display_name": "Python [conda env:adh]",
   "language": "python",
   "name": "conda-env-adh-py"
  },
  "language_info": {
   "codemirror_mode": {
    "name": "ipython",
    "version": 3
   },
   "file_extension": ".py",
   "mimetype": "text/x-python",
   "name": "python",
   "nbconvert_exporter": "python",
   "pygments_lexer": "ipython3",
   "version": "3.7.0"
  }
 },
 "nbformat": 4,
 "nbformat_minor": 2
}
