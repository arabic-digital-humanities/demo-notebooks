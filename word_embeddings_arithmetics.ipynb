{
 "cells": [
  {
   "cell_type": "code",
   "execution_count": 1,
   "metadata": {
    "collapsed": true
   },
   "outputs": [],
   "source": [
    "import ipywidgets as widgets\n",
    "import gensim\n",
    "import os"
   ]
  },
  {
   "cell_type": "markdown",
   "metadata": {},
   "source": [
    "## Word embedding model for arabic\n",
    "This app allows you to do arithmetics with word embeddings model for Arabic."
   ]
  },
  {
   "cell_type": "code",
   "execution_count": 2,
   "metadata": {
    "collapsed": true
   },
   "outputs": [],
   "source": [
    "model_path = 'data'"
   ]
  },
  {
   "cell_type": "code",
   "execution_count": 3,
   "metadata": {},
   "outputs": [],
   "source": [
    "import zipfile\n",
    "from urllib.request import urlopen\n",
    "from io import BytesIO\n",
    "\n",
    "def download_model(download_url, model_path):\n",
    "    outname = os.path.join(model_path, name)\n",
    "    resp = urlopen(download_url)\n",
    "    zf = zipfile.ZipFile(BytesIO(resp.read()), 'r')\n",
    "\n",
    "\n",
    "    for fname in zf.namelist():\n",
    "        out_file = os.path.join(model_path, os.path.basename(fname))\n",
    "        if not os.path.exists(out_file):\n",
    "            with open(out_file, 'wb') as fout:\n",
    "                fout.write(zf.read(fname))\n",
    "    model_name = fname.split('.')[0]\n",
    "    return model_name\n",
    "\n",
    "\n",
    "model_urls = {\n",
    "    'fiqh-stemmed': 'https://surfdrive.surf.nl/files/index.php/s/7ZhTWqjTLRaNf2M/download',\n",
    "    'fiqh-norm': 'https://surfdrive.surf.nl/files/index.php/s/JZKLrkmVRP202T4/download'\n",
    "}\n",
    "\n",
    "model_names = {}\n",
    "\n",
    "for name in model_urls:\n",
    "    model_names[name] = download_model(model_urls[name], model_path)"
   ]
  },
  {
   "cell_type": "code",
   "execution_count": 4,
   "metadata": {
    "collapsed": true
   },
   "outputs": [],
   "source": [
    "# To do: list multiple available models and only download them when needed\n",
    "models = {}\n",
    "for name in model_names:\n",
    "    try:\n",
    "        models[name] = gensim.models.KeyedVectors.load(os.path.join(model_path, model_names[name]))\n",
    "    except:\n",
    "        pass"
   ]
  },
  {
   "cell_type": "code",
   "execution_count": 5,
   "metadata": {
    "collapsed": true
   },
   "outputs": [],
   "source": [
    "def arithmetics(word1, word2, word3, model, topn=10):\n",
    "    res = model.wv.most_similar(positive=[word1, word3], negative=[word2], topn=topn)\n",
    "    output = [u'{} \\t{:.3f}'.format(w, s) for w, s in res]\n",
    "    return '\\n'.join(output)"
   ]
  },
  {
   "cell_type": "markdown",
   "metadata": {},
   "source": [
    "The output word is sementically related to word3 similar as word1 to word2. For example:\n",
    "king (*word1*) - man (*word2*) + woman (*word3*) = queen (*output*)"
   ]
  },
  {
   "cell_type": "code",
   "execution_count": 6,
   "metadata": {},
   "outputs": [
    {
     "data": {
      "application/vnd.jupyter.widget-view+json": {
       "model_id": "d8700e4bc4994550b1cd3a159a2d66ab",
       "version_major": 2,
       "version_minor": 0
      },
      "text/plain": [
       "VBox(children=(Text(value='', description='Word 1 (king):'), Text(value='', description='Word 2 (man):'), Text…"
      ]
     },
     "metadata": {},
     "output_type": "display_data"
    }
   ],
   "source": [
    "outputs = {model: widgets.Textarea(disabled=True, rows=30, description=model )\n",
    "                                   for model in models}\n",
    "\n",
    "def print_related_words(button):\n",
    "    for model in models:\n",
    "        try: \n",
    "            outputs[model].value = arithmetics(input_word1.value.strip(),\n",
    "                                               input_word2.value.strip(),\n",
    "                                               input_word3.value.strip(),\n",
    "                                               models[model], input_number.value)\n",
    "        except KeyError:\n",
    "            outputs[model].value = 'Error: word does not exist in vocabulary'\n",
    "#     except:\n",
    "#         output.value = 'Unknown error'\n",
    "\n",
    "input_word1 = widgets.Text(description='Word 1 (king):')\n",
    "input_word2 = widgets.Text(description='Word 2 (man):')\n",
    "input_word3 = widgets.Text(description='Word 3 (woman):')\n",
    "\n",
    "input_number = widgets.IntSlider(\n",
    "    value=50,\n",
    "    min=5,\n",
    "    max=100,\n",
    "    step=5,\n",
    "    description='Number of results:',\n",
    ")\n",
    "\n",
    "button_submit = widgets.Button(description='Submit')\n",
    "button_submit.on_click(print_related_words)\n",
    "\n",
    "output_boxes = tuple([outputs[m] for m in sorted(outputs.keys())])\n",
    "widgets.VBox((input_word1, input_word2, input_word3, \n",
    "              input_number, button_submit, widgets.HBox(output_boxes)))\n"
   ]
  },
  {
   "cell_type": "code",
   "execution_count": null,
   "metadata": {
    "collapsed": true
   },
   "outputs": [],
   "source": []
  }
 ],
 "metadata": {
  "anaconda-cloud": {},
  "kernelspec": {
   "display_name": "Python [conda env:adh]",
   "language": "python",
   "name": "conda-env-adh-py"
  },
  "language_info": {
   "codemirror_mode": {
    "name": "ipython",
    "version": 3
   },
   "file_extension": ".py",
   "mimetype": "text/x-python",
   "name": "python",
   "nbconvert_exporter": "python",
   "pygments_lexer": "ipython3",
   "version": "3.7.0"
  }
 },
 "nbformat": 4,
 "nbformat_minor": 2
}
